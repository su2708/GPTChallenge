{
 "cells": [
  {
   "cell_type": "markdown",
   "metadata": {},
   "source": [
    "## 챌린지:\n",
    "---\n",
    "- This challenge is to familiarize ourselves with the Jupyter Notebooks, LangChain Expression Language and the submission process.\n",
    "- 이 챌린지는 주피터 노트북, 랭체인 표현 언어, 제출 프로세스에 익숙해지는 것을 목표로 합니다.\n",
    "\n",
    "\n",
    "## Tasks:\n",
    "---\n",
    "(EN)\n",
    "- Create a Github Repository\n",
    "- Create a Python environment.\n",
    "- Install dependencies.\n",
    "- Create a Jupyter Notebook.\n",
    "- Setup your OpenAI Keys.\n",
    "- Make two chains and chain them together using LCEL.\n",
    "- Push the code to Github\n",
    "\n",
    "(KR)\n",
    "- Github 리포지토리 만들기\n",
    "- Python 환경 설정\n",
    "- 종속 요소 설치\n",
    "- Jupyter 노트북 생성\n",
    "- OpenAI 키 설정\n",
    "- 두 개의 체인을 만들고 LCEL을 사용하여 서로 연결합니다.\n",
    "- 코드를 Github에 푸시\n",
    "\n",
    "\n",
    "## LCEL Chains:\n",
    "---\n",
    "(EN)\n",
    "- Make a chain that is specialized in writing poems about programming languages and another one that is specialized in explaining Haikus.\n",
    "- Chain the two chains together using LCEL.\n",
    "- The final chain should receive the name of a programming language and it should reply with the Haiku and its explanation.\n",
    "- Use \"gpt-3.5-turbo\" as the model and ChatPromptTemplate for your prompts.\n",
    "\n",
    "(KR)\n",
    "- 프로그래밍 언어에 대한 시를 쓰는 데 특화된 체인과 시를 설명하는 데 특화된 체인을 만드세요.\n",
    "- LCEL을 사용해 두 체인을 서로 연결합니다.\n",
    "- 최종 체인은 프로그래밍 언어의 이름을 받고 시와 그 설명으로 응답해야 합니다.\n",
    "- 모델로는 \"gpt-3.5-turbo\"를 사용하고 프롬프트에는 ChatPromptTemplate을 사용하세요."
   ]
  },
  {
   "cell_type": "code",
   "execution_count": 39,
   "metadata": {},
   "outputs": [],
   "source": [
    "import os\n",
    "from dotenv import load_dotenv\n",
    "\n",
    "load_dotenv()\n",
    "\n",
    "openai_api_key = os.getenv(\"OPENAI_API_KEY\")"
   ]
  },
  {
   "cell_type": "code",
   "execution_count": 40,
   "metadata": {},
   "outputs": [],
   "source": [
    "from langchain_openai import ChatOpenAI\n",
    "from langchain.prompts import ChatPromptTemplate\n",
    "\n",
    "# Initialize LLM\n",
    "llm = ChatOpenAI(\n",
    "    model=\"gpt-3.5-turbo\",\n",
    "    api_key=openai_api_key,\n",
    "    temperature=0.1,\n",
    ")\n",
    "\n",
    "# Haiku generation prompt\n",
    "haiku_prompt = ChatPromptTemplate.from_messages([\n",
    "    (\"system\", \"You are a poet who writes poem about programming languages.\"),\n",
    "    (\"user\", \"Write a poem about {language}\")\n",
    "])  \n",
    "\n",
    "# Chain for Haiku generation\n",
    "haiku_chain = haiku_prompt | llm"
   ]
  },
  {
   "cell_type": "code",
   "execution_count": 42,
   "metadata": {},
   "outputs": [],
   "source": [
    "# Haiku explanation prompt\n",
    "explanation_prompt = ChatPromptTemplate.from_messages([\n",
    "    (\"system\", \"You are the AI describing poem. First, write the poem you received in the first paragraph and write the description of the poem in the second paragraph.\"),\n",
    "    (\"user\", \"Explain this poem:\\n\\n{haiku}\")\n",
    "])\n",
    "\n",
    "# Chain for explaining Haikus\n",
    "explanation_chain = explanation_prompt | llm\n"
   ]
  },
  {
   "cell_type": "code",
   "execution_count": 44,
   "metadata": {},
   "outputs": [
    {
     "data": {
      "text/plain": [
       "'This poem celebrates the programming language JavaScript and its significance in the realm of web development. It describes JavaScript as a versatile and interactive tool that enhances websites with its functions and loops, enabling animations, form validation, and overall interactivity. The poem also acknowledges the challenges of working with JavaScript, such as its asynchronous nature and callbacks, but emphasizes that with patience and skill, its power can be harnessed effectively. Ultimately, the poem praises JavaScript as a beacon of creativity that guides developers through the digital landscape, highlighting its enduring importance in the world of coding.'"
      ]
     },
     "execution_count": 44,
     "metadata": {},
     "output_type": "execute_result"
    }
   ],
   "source": [
    "# Combine both chains\n",
    "final_chain = haiku_chain | (lambda x: {\"haiku\": x.content}) | explanation_chain\n",
    "\n",
    "# Test the final chain\n",
    "response = final_chain.invoke({\"language\": \"javascript\"})\n",
    "response.content\n"
   ]
  },
  {
   "cell_type": "code",
   "execution_count": null,
   "metadata": {},
   "outputs": [],
   "source": []
  }
 ],
 "metadata": {
  "kernelspec": {
   "display_name": "GPTChallenge",
   "language": "python",
   "name": "python3"
  },
  "language_info": {
   "codemirror_mode": {
    "name": "ipython",
    "version": 3
   },
   "file_extension": ".py",
   "mimetype": "text/x-python",
   "name": "python",
   "nbconvert_exporter": "python",
   "pygments_lexer": "ipython3",
   "version": "3.12.9"
  }
 },
 "nbformat": 4,
 "nbformat_minor": 2
}
