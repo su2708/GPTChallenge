{
 "cells": [
  {
   "cell_type": "markdown",
   "metadata": {},
   "source": [
    "## 챌린지:\n",
    "---\n",
    "- This challenge is to familiarize ourselves with the Jupyter Notebooks, LangChain Expression Language and the submission process.\n",
    "- 이 챌린지는 주피터 노트북, 랭체인 표현 언어, 제출 프로세스에 익숙해지는 것을 목표로 합니다.\n",
    "\n",
    "\n",
    "## Tasks:\n",
    "---\n",
    "(EN)\n",
    "- Create a Github Repository\n",
    "- Create a Python environment.\n",
    "- Install dependencies.\n",
    "- Create a Jupyter Notebook.\n",
    "- Setup your OpenAI Keys.\n",
    "- Make two chains and chain them together using LCEL.\n",
    "- Push the code to Github\n",
    "\n",
    "(KR)\n",
    "- Github 리포지토리 만들기\n",
    "- Python 환경 설정\n",
    "- 종속 요소 설치\n",
    "- Jupyter 노트북 생성\n",
    "- OpenAI 키 설정\n",
    "- 두 개의 체인을 만들고 LCEL을 사용하여 서로 연결합니다.\n",
    "- 코드를 Github에 푸시\n",
    "\n",
    "\n",
    "## LCEL Chains:\n",
    "---\n",
    "(EN)\n",
    "- Make a chain that is specialized in writing poems about programming languages and another one that is specialized in explaining Haikus.\n",
    "- Chain the two chains together using LCEL.\n",
    "- The final chain should receive the name of a programming language and it should reply with the Haiku and its explanation.\n",
    "- Use \"gpt-3.5-turbo\" as the model and ChatPromptTemplate for your prompts.\n",
    "\n",
    "(KR)\n",
    "- 프로그래밍 언어에 대한 시를 쓰는 데 특화된 체인과 시를 설명하는 데 특화된 체인을 만드세요.\n",
    "- LCEL을 사용해 두 체인을 서로 연결합니다.\n",
    "- 최종 체인은 프로그래밍 언어의 이름을 받고 시와 그 설명으로 응답해야 합니다.\n",
    "- 모델로는 \"gpt-3.5-turbo\"를 사용하고 프롬프트에는 ChatPromptTemplate을 사용하세요."
   ]
  },
  {
   "cell_type": "code",
   "execution_count": 39,
   "metadata": {},
   "outputs": [],
   "source": [
    "import os\n",
    "from dotenv import load_dotenv\n",
    "\n",
    "load_dotenv()\n",
    "\n",
    "openai_api_key = os.getenv(\"OPENAI_API_KEY\")"
   ]
  },
  {
   "cell_type": "code",
   "execution_count": 40,
   "metadata": {},
   "outputs": [],
   "source": [
    "from langchain_openai import ChatOpenAI\n",
    "from langchain.prompts import ChatPromptTemplate\n",
    "\n",
    "# Initialize LLM\n",
    "llm = ChatOpenAI(\n",
    "    model=\"gpt-3.5-turbo\",\n",
    "    api_key=openai_api_key,\n",
    "    temperature=0.1,\n",
    ")\n",
    "\n",
    "# Haiku generation prompt\n",
    "haiku_prompt = ChatPromptTemplate.from_messages([\n",
    "    (\"system\", \"You are a poet who writes poem about programming languages.\"),\n",
    "    (\"user\", \"Write a poem about {language}\")\n",
    "])  \n",
    "\n",
    "# Chain for Haiku generation\n",
    "haiku_chain = haiku_prompt | llm"
   ]
  },
  {
   "cell_type": "code",
   "execution_count": 49,
   "metadata": {},
   "outputs": [],
   "source": [
    "# Haiku explanation prompt\n",
    "explanation_prompt = ChatPromptTemplate.from_messages([\n",
    "    (\"system\", \"You are the AI explaining poem. Write the description of the poem.\"),\n",
    "    (\"user\", \"Poem:\\n\\n{haiku}\")\n",
    "])\n",
    "\n",
    "# Chain for explaining Haikus\n",
    "explanation_chain = explanation_prompt | llm\n"
   ]
  },
  {
   "cell_type": "code",
   "execution_count": 50,
   "metadata": {},
   "outputs": [
    {
     "data": {
      "text/plain": [
       "\"This poem celebrates the programming language Python, portraying it as a powerful and elegant tool in the world of coding. The poem highlights Python's simplicity, versatility, and widespread use in various fields such as web development and data science. It praises Python for its user-friendly syntax, making it accessible to both beginners and experienced programmers. The poem encourages readers to appreciate and acknowledge Python's significance in the coding community, emphasizing its impact and popularity.\""
      ]
     },
     "execution_count": 50,
     "metadata": {},
     "output_type": "execute_result"
    }
   ],
   "source": [
    "# Combine both chains\n",
    "final_chain = haiku_chain | (lambda x: {\"haiku\": x.content}) | explanation_chain\n",
    "\n",
    "# Test the final chain\n",
    "response = final_chain.invoke({\"language\": \"python\"})\n",
    "response.content\n"
   ]
  },
  {
   "cell_type": "markdown",
   "metadata": {},
   "source": [
    "## 정답 코드"
   ]
  },
  {
   "cell_type": "code",
   "execution_count": 2,
   "metadata": {},
   "outputs": [],
   "source": [
    "from langchain_openai import ChatOpenAI\n",
    "from langchain.prompts import ChatPromptTemplate\n",
    "from langchain.callbacks import StreamingStdOutCallbackHandler\n",
    "\n",
    "chat = ChatOpenAI(\n",
    "    model_name=\"gpt-3.5-turbo\",\n",
    "    streaming=True,\n",
    "    callbacks=[\n",
    "        StreamingStdOutCallbackHandler(),\n",
    "    ],\n",
    ")"
   ]
  },
  {
   "cell_type": "code",
   "execution_count": 3,
   "metadata": {},
   "outputs": [],
   "source": [
    "poet_prompt = ChatPromptTemplate.from_messages(\n",
    "    [\n",
    "        (\n",
    "            \"system\",\n",
    "            \"You are a world-renowned poet known for your deep understanding of programming languages. Your poems capture the essence and unique characteristics of each language beautifully.\",\n",
    "        ),\n",
    "        (\"human\", \"Write a poem about the {language} programming language.\"),\n",
    "    ]\n",
    ")\n",
    "\n",
    "poet_chain = poet_prompt | chat\n",
    "\n",
    "explainer_prompt = ChatPromptTemplate.from_messages(\n",
    "    [\n",
    "        (\n",
    "            \"system\",\n",
    "            \"You are an expert in poetry analysis. Your task is to explain the meaning, themes, and nuances of any poem in a clear and insightful manner.\",\n",
    "        ),\n",
    "        (\"human\", \"Explain the following poem:\\n\\n{poem}\"),\n",
    "    ]\n",
    ")\n",
    "\n",
    "explainer_chain = explainer_prompt | chat"
   ]
  },
  {
   "cell_type": "code",
   "execution_count": 5,
   "metadata": {},
   "outputs": [
    {
     "name": "stdout",
     "output_type": "stream",
     "text": [
      "In the heart of Python's serene embrace,\n",
      "Where whitespace whispers secrets of grace,\n",
      "Indentation forms a rhythm divine,\n",
      "Syntax as elegant as a grand design.\n",
      "\n",
      "With ease and clarity, it speaks its code,\n",
      "In loops and functions, a story told,\n",
      "From libraries vast, creativity blooms,\n",
      "Guiding the programmer through digital rooms.\n",
      "\n",
      "Like a snake in the grass, it moves with grace,\n",
      "Unraveling problems at a steady pace,\n",
      "Dynamic and strong, yet simple and clean,\n",
      "Python dances in the realm of machine.\n",
      "\n",
      "A language of beauty, a language of might,\n",
      "Python weaves together day and night,\n",
      "In the hands of a master, it soars and sings,\n",
      "A symphony of logic, where art meets wings.This poem beautifully captures the essence and beauty of Python programming language through vivid imagery and metaphors. At its core, this poem is a celebration of the elegance, power, and versatility of Python as a programming language.\n",
      "\n",
      "The opening lines, \"In the heart of Python's serene embrace, Where whitespace whispers secrets of grace,\" set the tone for the poem by portraying Python as a tranquil and elegant entity. The mention of whitespace, which is crucial in Python for organizing code, symbolizes the attention to detail and precision that the language requires.\n",
      "\n",
      "The poem praises Python's indentation, which is a distinctive feature of the language, highlighting how it creates a rhythm that feels almost divine. This rhythm is likened to a \"grand design,\" emphasizing the structured and organized nature of Python syntax.\n",
      "\n",
      "Furthermore, the poem delves into the functionality and storytelling aspect of Python, portraying it as a language that can communicate with ease and clarity through loops, functions, and libraries. Creativity is depicted as blossoming in the vast landscape of libraries, guiding programmers through the digital realm like a gentle guide.\n",
      "\n",
      "The comparison of Python to a graceful snake moving through grass conveys its ability to solve problems methodically and efficiently. The language is described as both dynamic and strong, yet simple and clean, capturing its balance between complexity and readability.\n",
      "\n",
      "The poem concludes by portraying Python as a language of beauty and might, capable of weaving together logic seamlessly. In the hands of a skilled programmer, Python is elevated to an art form, where logic and creativity converge harmoniously like a symphony.\n",
      "\n",
      "Overall, this poem effectively portrays Python as not just a tool for programming, but as a medium for expression, creativity, and problem-solving, reflecting the deep admiration and respect for this versatile language."
     ]
    },
    {
     "data": {
      "text/plain": [
       "'This poem beautifully captures the essence and beauty of Python programming language through vivid imagery and metaphors. At its core, this poem is a celebration of the elegance, power, and versatility of Python as a programming language.\\n\\nThe opening lines, \"In the heart of Python\\'s serene embrace, Where whitespace whispers secrets of grace,\" set the tone for the poem by portraying Python as a tranquil and elegant entity. The mention of whitespace, which is crucial in Python for organizing code, symbolizes the attention to detail and precision that the language requires.\\n\\nThe poem praises Python\\'s indentation, which is a distinctive feature of the language, highlighting how it creates a rhythm that feels almost divine. This rhythm is likened to a \"grand design,\" emphasizing the structured and organized nature of Python syntax.\\n\\nFurthermore, the poem delves into the functionality and storytelling aspect of Python, portraying it as a language that can communicate with ease and clarity through loops, functions, and libraries. Creativity is depicted as blossoming in the vast landscape of libraries, guiding programmers through the digital realm like a gentle guide.\\n\\nThe comparison of Python to a graceful snake moving through grass conveys its ability to solve problems methodically and efficiently. The language is described as both dynamic and strong, yet simple and clean, capturing its balance between complexity and readability.\\n\\nThe poem concludes by portraying Python as a language of beauty and might, capable of weaving together logic seamlessly. In the hands of a skilled programmer, Python is elevated to an art form, where logic and creativity converge harmoniously like a symphony.\\n\\nOverall, this poem effectively portrays Python as not just a tool for programming, but as a medium for expression, creativity, and problem-solving, reflecting the deep admiration and respect for this versatile language.'"
      ]
     },
     "execution_count": 5,
     "metadata": {},
     "output_type": "execute_result"
    }
   ],
   "source": [
    "final_chain = {\"poem\": poet_chain} | explainer_chain\n",
    "\n",
    "final_chain.invoke({\"language\": \"python\"}).content"
   ]
  }
 ],
 "metadata": {
  "kernelspec": {
   "display_name": "GPTChallenge",
   "language": "python",
   "name": "python3"
  },
  "language_info": {
   "codemirror_mode": {
    "name": "ipython",
    "version": 3
   },
   "file_extension": ".py",
   "mimetype": "text/x-python",
   "name": "python",
   "nbconvert_exporter": "python",
   "pygments_lexer": "ipython3",
   "version": "3.12.9"
  }
 },
 "nbformat": 4,
 "nbformat_minor": 2
}
