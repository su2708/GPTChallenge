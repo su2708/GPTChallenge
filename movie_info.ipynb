{
 "cells": [
  {
   "cell_type": "markdown",
   "metadata": {},
   "source": [
    "## 챌린지\n",
    "---\n",
    "(EN)\n",
    "- Make a chain that takes the name of a movie and replies with information about the movie such as the director, the main cast, the budget, the box office revenue, the genre of the movie and a small synopsis.\n",
    "- The LLM should always reply using the same format, to accomplish this you must give examples to the LLM of your desired output.\n",
    "- To provide examples use FewShotPromptTemplate or FewShotChatMessagePromptTemplate.\n",
    "\n",
    "(KR)\n",
    "- 영화 이름을 가지고 감독, 주요 출연진, 예산, 흥행 수익, 영화의 장르, 간단한 시놉시스 등 영화에 대한 정보로 답장하는 체인을 만드세요.\n",
    "- LLM은 항상 동일한 형식을 사용하여 응답해야 하며, 이를 위해서는 원하는 출력의 예시를 LLM에 제공해야 합니다.\n",
    "- 예제를 제공하려면 FewShotPromptTemplate 또는 FewShotChatMessagePromptTemplate을 사용하세요."
   ]
  },
  {
   "cell_type": "code",
   "execution_count": 7,
   "metadata": {},
   "outputs": [],
   "source": [
    "import os\n",
    "from dotenv import load_dotenv\n",
    "\n",
    "from langchain.prompts.few_shot import FewShotChatMessagePromptTemplate\n",
    "from langchain.prompts import ChatPromptTemplate\n",
    "from langchain_openai import ChatOpenAI\n",
    "\n",
    "load_dotenv()\n",
    "\n",
    "openai_api_key = os.getenv(\"OPENAI_API_KEY\")"
   ]
  },
  {
   "cell_type": "code",
   "execution_count": 9,
   "metadata": {},
   "outputs": [],
   "source": [
    "llm = ChatOpenAI(\n",
    "    api_key=openai_api_key,\n",
    "    temperature=0.5,\n",
    ")\n",
    "\n",
    "examples = [\n",
    "    {\n",
    "        \"movie\": \"Inception\",\n",
    "        \"response\": \"\"\"\n",
    "        Director: Christopher Nolan\n",
    "        Main Cast: Leonardo DiCaprio, Joseph Gordon-Levitt, Ellen Page\n",
    "        Budget: $160 million\n",
    "        Box Office: $829.9 million\n",
    "        Genre: Sci-Fi, Action\n",
    "        Synopsis: A skilled thief is given a chance at redemption if he can successfully plant an idea into a target's subconscious.\n",
    "        \"\"\"\n",
    "    },\n",
    "    {\n",
    "        \"movie\": \"The Godfather\",\n",
    "        \"response\": \"\"\"\n",
    "        Director: Francis Ford Coppola\n",
    "        Main Cast: Marlon Brando, Al Pacino, James Caan\n",
    "        Budget: $6 million\n",
    "        Box Office: $250 million\n",
    "        Genre: Crime, Drama\n",
    "        Synopsis: The aging patriarch of an organized crime dynasty transfers control of his clandestine empire to his reluctant son.\n",
    "        \"\"\"\n",
    "        \n",
    "    }\n",
    "]"
   ]
  },
  {
   "cell_type": "code",
   "execution_count": 12,
   "metadata": {},
   "outputs": [],
   "source": [
    "# 형식 지정 \n",
    "prompt = ChatPromptTemplate.from_messages([\n",
    "    (\"user\", \"Tell me about the infomations of {movie}\"),\n",
    "    (\"ai\", \"{response}\")\n",
    "])\n",
    "\n",
    "# 형식에 맞게 대화형으로 답변 \n",
    "example_prompt = FewShotChatMessagePromptTemplate(\n",
    "    example_prompt=prompt,\n",
    "    examples=examples,\n",
    ")\n",
    "\n",
    "# 초기 설정, 예제와 함께 새로운 질문 \n",
    "final_prompt = ChatPromptTemplate.from_messages([\n",
    "    (\"system\", \"You are a movie information expert. Given a movie name, provide details\"),\n",
    "    example_prompt,\n",
    "    (\"user\", \"Tell me about the infomations of {movie}\")\n",
    "])\n",
    "\n",
    "chain = final_prompt | llm"
   ]
  },
  {
   "cell_type": "code",
   "execution_count": 14,
   "metadata": {},
   "outputs": [
    {
     "name": "stdout",
     "output_type": "stream",
     "text": [
      "\n",
      "        Director: Christopher Nolan\n",
      "        Main Cast: Matthew McConaughey, Anne Hathaway, Jessica Chastain\n",
      "        Budget: $165 million\n",
      "        Box Office: $677.5 million\n",
      "        Genre: Sci-Fi, Drama\n",
      "        Synopsis: A team of explorers travel through a wormhole in space in an attempt to ensure humanity's survival.\n",
      "        \n"
     ]
    }
   ],
   "source": [
    "movie_name = \"Interstellar\"\n",
    "\n",
    "answer = chain.invoke({\"movie\": movie_name}).content\n",
    "print(answer)"
   ]
  },
  {
   "cell_type": "markdown",
   "metadata": {},
   "source": [
    "## 정답코드"
   ]
  },
  {
   "cell_type": "code",
   "execution_count": 2,
   "metadata": {},
   "outputs": [],
   "source": [
    "from langchain_openai import ChatOpenAI\n",
    "from langchain.prompts import PromptTemplate\n",
    "from langchain.prompts import ChatPromptTemplate\n",
    "from langchain.prompts.few_shot import FewShotPromptTemplate\n",
    "from langchain.prompts.few_shot import FewShotChatMessagePromptTemplate\n",
    "from langchain.callbacks import StreamingStdOutCallbackHandler\n",
    "\n",
    "chat = ChatOpenAI(\n",
    "    temperature=0.1,\n",
    "    streaming=True,\n",
    "    callbacks=[\n",
    "        StreamingStdOutCallbackHandler(),\n",
    "    ],\n",
    ")"
   ]
  },
  {
   "cell_type": "code",
   "execution_count": 3,
   "metadata": {},
   "outputs": [],
   "source": [
    "examples = [\n",
    "    {\n",
    "        \"movie\": \"Iron Man\",\n",
    "        \"answer\": \"\"\"\n",
    "        Information of Iron Man\n",
    "        Director: Jon Favreau\n",
    "        Main Cast: Robert Downey Jr., Gwyneth Paltrow, Jeff Bridges, Terrence Howard\n",
    "        Budget: $140 million\n",
    "        Box Office Revenue: $585.8 million\n",
    "        Genre: Action, Science Fiction, Superhero\n",
    "        Synopsis: After being held captive in an Afghan cave, billionaire engineer Tony Stark creates a unique weaponized suit of armor to fight evil.\n",
    "        \"\"\",\n",
    "    },\n",
    "    {\n",
    "        \"movie\": \"Thor\",\n",
    "        \"answer\": \"\"\"\n",
    "        Information of Thor\n",
    "        Director: Kenneth Branagh\n",
    "        Main Cast: Chris Hemsworth, Natalie Portman, Tom Hiddleston, Anthony Hopkins\n",
    "        Budget: $150 million\n",
    "        Box Office Revenue: $449.3 million\n",
    "        Genre: Action, Fantasy, Superhero\n",
    "        Synopsis: The powerful but arrogant god Thor is cast out of Asgard to live amongst humans in Midgard (Earth), where he soon becomes one of their finest defenders.\n",
    "        \"\"\",\n",
    "    },\n",
    "    {\n",
    "        \"movie\": \"Spider-Man\",\n",
    "        \"answer\": \"\"\"\n",
    "        Information of Spider-Man\n",
    "        Director: Sam Raimi\n",
    "        Main Cast: Tobey Maguire, Kirsten Dunst, Willem Dafoe, James Franco\n",
    "        Budget: $139 million\n",
    "        Box Office Revenue: $825 million\n",
    "        Genre: Action, Adventure, Superhero\n",
    "        Synopsis: When bitten by a genetically modified spider, a nerdy high school student gains spider-like abilities that he must use to fight evil as a superhero after tragedy befalls his family.\n",
    "        \"\"\",\n",
    "    },\n",
    "]"
   ]
  },
  {
   "cell_type": "code",
   "execution_count": 4,
   "metadata": {},
   "outputs": [
    {
     "name": "stdout",
     "output_type": "stream",
     "text": [
      "AI: \n",
      "        Information of The Avengers\n",
      "        Director: Joss Whedon\n",
      "        Main Cast: Robert Downey Jr., Chris Evans, Mark Ruffalo, Chris Hemsworth, Scarlett Johansson, Jeremy Renner, Tom Hiddleston, Samuel L. Jackson\n",
      "        Budget: $220 million\n",
      "        Box Office Revenue: $1.519 billion\n",
      "        Genre: Action, Adventure, Superhero\n",
      "        Synopsis: Earth's mightiest heroes, including Iron Man, Captain America, Thor, and the Hulk, must come together to stop the villainous Loki and his alien army from conquering Earth."
     ]
    },
    {
     "data": {
      "text/plain": [
       "AIMessage(content=\"AI: \\n        Information of The Avengers\\n        Director: Joss Whedon\\n        Main Cast: Robert Downey Jr., Chris Evans, Mark Ruffalo, Chris Hemsworth, Scarlett Johansson, Jeremy Renner, Tom Hiddleston, Samuel L. Jackson\\n        Budget: $220 million\\n        Box Office Revenue: $1.519 billion\\n        Genre: Action, Adventure, Superhero\\n        Synopsis: Earth's mightiest heroes, including Iron Man, Captain America, Thor, and the Hulk, must come together to stop the villainous Loki and his alien army from conquering Earth.\", additional_kwargs={}, response_metadata={'finish_reason': 'stop', 'model_name': 'gpt-3.5-turbo-0125'}, id='run-4112799d-8516-410e-afab-59c8a3a252f8-0')"
      ]
     },
     "execution_count": 4,
     "metadata": {},
     "output_type": "execute_result"
    }
   ],
   "source": [
    "# FewShotPromptTemplate를 활용\n",
    "\n",
    "example_prompt = PromptTemplate.from_template(\n",
    "    \"Human: Tell me about {movie} movie.\\nAI: {answer}\"\n",
    ")\n",
    "\n",
    "prompt = FewShotPromptTemplate(\n",
    "    example_prompt=example_prompt,\n",
    "    examples=examples,\n",
    "    suffix=\"Human: Tell me about {movie} movie\",\n",
    "    input_variables=[\"movie\"],\n",
    ")\n",
    "\n",
    "chain = prompt | chat\n",
    "\n",
    "chain.invoke({\"movie\": \"The Avengers\"})"
   ]
  }
 ],
 "metadata": {
  "kernelspec": {
   "display_name": "GPTChallenge",
   "language": "python",
   "name": "python3"
  },
  "language_info": {
   "codemirror_mode": {
    "name": "ipython",
    "version": 3
   },
   "file_extension": ".py",
   "mimetype": "text/x-python",
   "name": "python",
   "nbconvert_exporter": "python",
   "pygments_lexer": "ipython3",
   "version": "3.12.9"
  }
 },
 "nbformat": 4,
 "nbformat_minor": 2
}
